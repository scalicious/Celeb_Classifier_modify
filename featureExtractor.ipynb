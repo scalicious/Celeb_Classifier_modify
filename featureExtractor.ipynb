{
 "cells": [
  {
   "cell_type": "code",
   "execution_count": 7,
   "metadata": {},
   "outputs": [],
   "source": [
    "import pickle\n",
    "import numpy as np\n",
    "from tqdm import tqdm\n",
    "import tensorflow as tf\n",
    "from tensorflow.keras.preprocessing import image\n",
    "from tensorflow.keras.applications.vgg16 import VGG16\n",
    "from tensorflow.keras.applications.vgg16 import preprocess_input\n",
    "from tensorflow.keras.models import Model\n",
    "from tensorflow.keras.layers import Dense,GlobalAveragePooling2D"
   ]
  },
  {
   "cell_type": "code",
   "execution_count": 8,
   "metadata": {},
   "outputs": [],
   "source": [
    "from pathlib import Path\n",
    "\n",
    "# Load your filenames\n",
    "filenames = pickle.load(open('filenames.pkl','rb'))\n",
    "\n",
    "# Convert Windows-style paths to Linux-compatible paths\n",
    "fixed_filenames = []\n",
    "for f in filenames:\n",
    "    f = f.replace(\"\\\\\", \"/\")  # fix backslashes\n",
    "    if f.lower().startswith(\"d:/\"):  # remove Windows drive prefix\n",
    "        f = f[3:]\n",
    "    fixed_path = Path(\"/home/anas/BollywoodCeleb_Classifier/data\") / \"/\".join(f.split(\"/\")[-2:])\n",
    "    fixed_filenames.append(fixed_path)\n",
    "\n",
    "# Replace the old filenames with the fixed ones\n",
    "filenames = fixed_filenames\n",
    "\n",
    "model = VGG16(weights='imagenet', include_top=False, input_shape=(224, 224, 3))\n"
   ]
  },
  {
   "cell_type": "code",
   "execution_count": 9,
   "metadata": {},
   "outputs": [],
   "source": [
    "def feature_extractor(img_path, model):\n",
    "    # Convert to Path object for cross-platform compatibility\n",
    "    img_path = Path(img_path)\n",
    "\n",
    "    # Check if the file exists before loading\n",
    "    if not img_path.exists():\n",
    "        raise FileNotFoundError(f\"Image not found at: {img_path.resolve()}\")\n",
    "\n",
    "    # Load and preprocess the image\n",
    "    img = image.load_img(img_path, target_size=(224, 224))\n",
    "    img_array = image.img_to_array(img)\n",
    "    expanded_img = np.expand_dims(img_array, axis=0)\n",
    "    preprocessed_img = preprocess_input(expanded_img)\n",
    "\n",
    "    # Extract features\n",
    "    result = model.predict(preprocessed_img, verbose=0).flatten()\n",
    "\n",
    "    return result"
   ]
  },
  {
   "cell_type": "code",
   "execution_count": null,
   "metadata": {},
   "outputs": [],
   "source": [
    "features = []\n",
    "for file in tqdm(filenames):\n",
    "    features.append(feature_extractor(file, model))\n"
   ]
  },
  {
   "cell_type": "code",
   "execution_count": null,
   "metadata": {},
   "outputs": [],
   "source": [
    "pickle.dump(features,open('feature_embedding.pkl','wb'))"
   ]
  }
 ],
 "metadata": {
  "kernelspec": {
   "display_name": "venv (3.13.7)",
   "language": "python",
   "name": "python3"
  },
  "language_info": {
   "codemirror_mode": {
    "name": "ipython",
    "version": 3
   },
   "file_extension": ".py",
   "mimetype": "text/x-python",
   "name": "python",
   "nbconvert_exporter": "python",
   "pygments_lexer": "ipython3",
   "version": "3.13.7"
  }
 },
 "nbformat": 4,
 "nbformat_minor": 2
}
